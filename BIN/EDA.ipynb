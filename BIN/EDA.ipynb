{
 "cells": [
  {
   "cell_type": "code",
   "execution_count": 1,
   "id": "4d22a2b2",
   "metadata": {},
   "outputs": [
    {
     "ename": "ModuleNotFoundError",
     "evalue": "No module named 'fuzzywuzzy'",
     "output_type": "error",
     "traceback": [
      "\u001b[1;31m---------------------------------------------------------------------------\u001b[0m",
      "\u001b[1;31mModuleNotFoundError\u001b[0m                       Traceback (most recent call last)",
      "Cell \u001b[1;32mIn[1], line 8\u001b[0m\n\u001b[0;32m      6\u001b[0m \u001b[38;5;28;01mfrom\u001b[39;00m \u001b[38;5;21;01msklearn\u001b[39;00m\u001b[38;5;21;01m.\u001b[39;00m\u001b[38;5;21;01mcluster\u001b[39;00m \u001b[38;5;28;01mimport\u001b[39;00m KMeans\n\u001b[0;32m      7\u001b[0m \u001b[38;5;28;01mfrom\u001b[39;00m \u001b[38;5;21;01msklearn\u001b[39;00m\u001b[38;5;21;01m.\u001b[39;00m\u001b[38;5;21;01mmetrics\u001b[39;00m\u001b[38;5;21;01m.\u001b[39;00m\u001b[38;5;21;01mpairwise\u001b[39;00m \u001b[38;5;28;01mimport\u001b[39;00m linear_kernel\n\u001b[1;32m----> 8\u001b[0m \u001b[38;5;28;01mfrom\u001b[39;00m \u001b[38;5;21;01mfuzzywuzzy\u001b[39;00m \u001b[38;5;28;01mimport\u001b[39;00m process\n",
      "\u001b[1;31mModuleNotFoundError\u001b[0m: No module named 'fuzzywuzzy'"
     ]
    }
   ],
   "source": [
    "import pandas as pd\n",
    "from nltk.corpus import stopwords\n",
    "from nltk.stem import WordNetLemmatizer\n",
    "import re\n",
    "from sklearn.feature_extraction.text import TfidfVectorizer\n",
    "from sklearn.cluster import KMeans\n",
    "from sklearn.metrics.pairwise import linear_kernel\n",
    "from fuzzywuzzy import process"
   ]
  },
  {
   "cell_type": "code",
   "execution_count": 2,
   "id": "6c43f050",
   "metadata": {},
   "outputs": [],
   "source": [
    "df = pd.read_csv('cleaned_user_posts.csv')"
   ]
  },
  {
   "cell_type": "code",
   "execution_count": 3,
   "id": "c2e52583",
   "metadata": {},
   "outputs": [],
   "source": [
    "def clean_text(text):\n",
    "    # Check if the text is a string\n",
    "    if not isinstance(text, str):\n",
    "        return \"\"  # Return empty string if not, or handle as needed\n",
    "    text = text.lower()  # Convert to lowercase\n",
    "    text = re.sub(r'\\[.*?\\]', '', text)  # Remove text in brackets\n",
    "    text = re.sub(r'https?://\\S+|www\\.\\S+', '', text)  # Remove URLs\n",
    "    text = re.sub(r'<.*?>+', '', text)\n",
    "    text = re.sub(r'[%s]' % re.escape('!\"#$%&\\'()*+,-./:;<=>?@[\\\\]^_`{|}~'), '', text)  # Remove punctuation\n",
    "    text = re.sub(r'\\n', '', text)  # Remove line breaks\n",
    "    text = re.sub(r'\\w*\\d\\w*', '', text)  # Remove words containing numbers\n",
    "    return text\n"
   ]
  },
  {
   "cell_type": "code",
   "execution_count": 4,
   "id": "e5528bb4",
   "metadata": {},
   "outputs": [],
   "source": [
    "# Apply cleaning function to comments column (adjusting for potential non-string values)\n",
    "df['cleaned_comments'] = df['comments'].apply(lambda x: clean_text(x))"
   ]
  },
  {
   "cell_type": "code",
   "execution_count": 5,
   "id": "bf4998df",
   "metadata": {},
   "outputs": [],
   "source": [
    "# Initialize TF-IDF Vectorizer\n",
    "tfidf = TfidfVectorizer(stop_words='english', max_features=10000)\n",
    "\n",
    "# Fit and transform the cleaned reviews\n",
    "X_tfidf = tfidf.fit_transform(df['cleaned_comments'])"
   ]
  },
  {
   "cell_type": "code",
   "execution_count": 6,
   "id": "5cc84c2e",
   "metadata": {},
   "outputs": [
    {
     "name": "stderr",
     "output_type": "stream",
     "text": [
      "C:\\Users\\marcu\\anaconda3\\Lib\\site-packages\\sklearn\\cluster\\_kmeans.py:870: FutureWarning: The default value of `n_init` will change from 10 to 'auto' in 1.4. Set the value of `n_init` explicitly to suppress the warning\n",
      "  warnings.warn(\n"
     ]
    }
   ],
   "source": [
    "# KMeans\n",
    "kmeans = KMeans(n_clusters=5, random_state=2)\n",
    "kmeans.fit(X_tfidf)\n",
    "\n",
    "# Assign the cluster labels back to the dataframe\n",
    "df['cluster'] = kmeans.labels_"
   ]
  },
  {
   "cell_type": "code",
   "execution_count": 7,
   "id": "fda6d2dc",
   "metadata": {
    "scrolled": false
   },
   "outputs": [
    {
     "name": "stdout",
     "output_type": "stream",
     "text": [
      "['the whisky club referral code  get a free dram'\n",
      " '107th whisky review 52nd scotch whisky review  glengoyne 12'\n",
      " '105th whisky review 6th japanese whisky review  nikka coffey grain'\n",
      " '100th whisky review 21st xmas23 review  roe  co blended irish whiskey'\n",
      " '99th whiskey review 20th xmas23 review  few spirits straight bourbon whiskey'\n",
      " '95th whisky review 16th xmas23 review  kyrö malt rye'\n",
      " '87th whiskey review 8th xmas23 review  black and gold 11 year old bourbon whiskey'\n",
      " '86th whisky review 7th xmas23 review  burnt ends blended whiskey'\n",
      " '81st whisky review 2nd xmas23 review  ledaig sinclair rioja finish'\n",
      " '78th whisky review 4th japanese whisky review  fuji 2022 masterpiece'\n",
      " '75th whiskey review 1st american whiskey review  buffalo trace'\n",
      " '70th whiskey review 3rd indian whisky review  neidhal single malt'\n",
      " '68th whiskey review 5th irish whisky review  puca small batch'\n",
      " 'review cut hill keystone release batch 1'\n",
      " 'review 13 tasman whisky pinot cask australian review 12'\n",
      " 'review 16  chiefs son 900 standard'\n",
      " '68th whiskey review 4th irish whisky review  teeling single malt'\n",
      " '67th whiskey review 2nd irish whisky review  teeling small batch'\n",
      " '66th whisky review 2nd irish whisky review  teeling single grain'\n",
      " '56th whisky review 21st australian whisky review  starward twofold'\n",
      " '57th whisky review 2nd australian whisky review  23rd street hybrid whiskey'\n",
      " '60th whisky review 23rd australian whisky review  kinglake french oak single malt whisky'\n",
      " 'review 21 ww 3 starward left field'\n",
      " 'ww review 53 starward small batch mesquite smoke'\n",
      " '54th whisky review 20th australian whisky review  archie rose single paddock whisky harvest 2018'\n",
      " '51st whisky review 17th australian whisky review  corowa characters'\n",
      " '49th whisky review 29th scotch whisky review  glenfiddich reserve cask'\n",
      " '43rd whisky review 3rd japanese whisky review  nikka single malt yoichi'\n",
      " '40th whisky review 12 australian whisky review  archie rose a whisky in every port with bonus story'\n",
      " '38th whisky review 11th australian whisky review  archie rose single malt'\n",
      " '37th whisky review 10th australian whisky review  the gospel solera rye'\n",
      " '36th whisky review 9th australian whisky review  the gospel straight rye'\n",
      " '35th whisky review 8th australian whisky review  archie rose white rye'\n",
      " '29th whisky review 7th australian whisky review  archie rose rye malt whisky'\n",
      " '21st whisky review 2nd japanese whisky review  yamazaki 12 year old'\n",
      " '3rd whisky review 1st australian whisky review  ned australian whisky'\n",
      " '1st whisky review 1st scotch review  glenlossie carn mor strictly limited 12']\n"
     ]
    }
   ],
   "source": [
    "def recommend_drinks(review):\n",
    "    # Clean and transform the input review\n",
    "    cleaned_review = clean_text(review)\n",
    "    transformed_review = tfidf.transform([cleaned_review])\n",
    "    \n",
    "    # Predict the cluster for the input review\n",
    "    cluster = kmeans.predict(transformed_review)[0]\n",
    "    \n",
    "    # Use the 'title' column as it contains the names/titles of the drinks\n",
    "    recommendations = df[df['cluster'] == cluster]['title'].unique()\n",
    "    \n",
    "    return recommendations\n",
    "\n",
    "# Example usage\n",
    "example_review = \"A rich nose with fruit and vanilla, smooth palate, and a spicy finish.\"\n",
    "print(recommend_drinks(example_review))\n"
   ]
  },
  {
   "cell_type": "code",
   "execution_count": 8,
   "id": "6164923b",
   "metadata": {},
   "outputs": [
    {
     "name": "stdout",
     "output_type": "stream",
     "text": [
      "['9th whisky review 1st irish whisky review  redbreast 12', '9th whisky review 1st irish whisky review  redbreast 12', '68th whiskey review 4th irish whisky review  teeling single malt', '68th whiskey review 4th irish whisky review  teeling single malt', '68th whiskey review 4th irish whisky review  teeling single malt']\n"
     ]
    }
   ],
   "source": [
    "# Ensure this list is correctly populated from your DataFrame\n",
    "titles = df['title'].tolist()\n",
    "\n",
    "# Initialize and transform titles with TF-IDF\n",
    "tfidf = TfidfVectorizer(stop_words='english')\n",
    "tfidf_matrix = tfidf.fit_transform(titles)\n",
    "\n",
    "# Compute cosine similarity matrix\n",
    "cosine_sim = linear_kernel(tfidf_matrix, tfidf_matrix)\n",
    "\n",
    "def recommend_drinks_fuzzy(title, titles, cosine_sim=cosine_sim):\n",
    "    # Use fuzzy matching to find the closest title\n",
    "    closest_title, _ = process.extractOne(title, titles)\n",
    "    \n",
    "    # Get the index of the drink that matches the closest title\n",
    "    idx = titles.index(closest_title)\n",
    "    \n",
    "    # Get the pairwise similarity scores of all drinks with that drink\n",
    "    sim_scores = list(enumerate(cosine_sim[idx]))\n",
    "    \n",
    "    # Sort the drinks based on the similarity scores\n",
    "    sim_scores = sorted(sim_scores, key=lambda x: x[1], reverse=True)\n",
    "    \n",
    "    # Get the scores of the 5 most similar drinks\n",
    "    sim_scores = sim_scores[1:6]\n",
    "    \n",
    "    # Get the drink indices\n",
    "    drink_indices = [i[0] for i in sim_scores]\n",
    "    \n",
    "    # Return the top 5 most similar drinks\n",
    "    return [titles[i] for i in drink_indices]\n",
    "\n",
    "# Make sure to replace `example_title` with a title that exists in your `titles` list\n",
    "example_title = '9th whisky review 1st irish whiskey review redbreast 12'\n",
    "print(recommend_drinks_fuzzy(example_title, titles))"
   ]
  },
  {
   "cell_type": "code",
   "execution_count": null,
   "id": "d333f98f",
   "metadata": {},
   "outputs": [],
   "source": []
  }
 ],
 "metadata": {
  "kernelspec": {
   "display_name": "Python 3 (ipykernel)",
   "language": "python",
   "name": "python3"
  },
  "language_info": {
   "codemirror_mode": {
    "name": "ipython",
    "version": 3
   },
   "file_extension": ".py",
   "mimetype": "text/x-python",
   "name": "python",
   "nbconvert_exporter": "python",
   "pygments_lexer": "ipython3",
   "version": "3.11.5"
  }
 },
 "nbformat": 4,
 "nbformat_minor": 5
}
