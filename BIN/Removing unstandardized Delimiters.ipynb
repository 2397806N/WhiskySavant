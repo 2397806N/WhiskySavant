{
 "cells": [
  {
   "cell_type": "markdown",
   "id": "40d0280f-0de6-4740-972e-8e95b357a609",
   "metadata": {
    "tags": []
   },
   "source": [
    "## Table of Content\n",
    "1. [Data Processing](#1.-Data-Processing)\n",
    "    1.1. [Removing Delimiters](#1.1-RD)\n",
    "\n",
    "2. [Modelling](#Modelling)"
   ]
  },
  {
   "cell_type": "markdown",
   "id": "bff8e9f8-41a7-450c-8bf2-635786bc5b89",
   "metadata": {
    "tags": []
   },
   "source": [
    "# Steps to clean Data\n",
    "1. [Data Processing](#Data-Processing)\n",
    "\n",
    "    1.1. [Removing Delimiters](#Removing-Delimiters)"
   ]
  },
  {
   "cell_type": "markdown",
   "id": "a0859162-3f79-4c09-aa51-92afc2f886d0",
   "metadata": {
    "tags": []
   },
   "source": [
    "## <a id=\"#Data Processing\"> Data Processinging, preparing, and manipulating the data...\n"
   ]
  },
  {
   "cell_type": "code",
   "execution_count": null,
   "id": "5e1f943a-a9ec-4286-ac13-0f5ce454eee6",
   "metadata": {},
   "outputs": [],
   "source": []
  },
  {
   "cell_type": "code",
   "execution_count": null,
   "id": "98c190c0-dd53-4d60-a4f6-3e76140f55da",
   "metadata": {},
   "outputs": [],
   "source": []
  },
  {
   "cell_type": "code",
   "execution_count": null,
   "id": "e8d02898-737d-4e2e-9212-2f273dedfc15",
   "metadata": {},
   "outputs": [],
   "source": []
  },
  {
   "cell_type": "code",
   "execution_count": null,
   "id": "b5d4202a-1a26-40b9-9d0e-f5e56f37e358",
   "metadata": {},
   "outputs": [],
   "source": []
  },
  {
   "cell_type": "code",
   "execution_count": null,
   "id": "09f57f36-397d-4473-946b-25740338979b",
   "metadata": {},
   "outputs": [],
   "source": []
  },
  {
   "cell_type": "code",
   "execution_count": null,
   "id": "c8bfd8ab-77cd-45a3-aaf0-409de1cf6805",
   "metadata": {},
   "outputs": [],
   "source": []
  },
  {
   "cell_type": "markdown",
   "id": "139d0285-43d4-45ad-adfd-12e36facc290",
   "metadata": {
    "tags": []
   },
   "source": [
    "### Data Processing"
   ]
  },
  {
   "cell_type": "code",
   "execution_count": null,
   "id": "21fa152f-eb8f-47c1-8f12-8922a6569a24",
   "metadata": {},
   "outputs": [],
   "source": [
    "import pandas as pd\n",
    "import re\n",
    "\n",
    "# Read the CSV file into a DataFrame\n",
    "df = pd.read_csv(\"your_dataset.csv\")\n",
    "\n",
    "# Define a function to remove the unwanted part from the title\n",
    "def clean_title(title):\n",
    "    # Define patterns for different delimiters\n",
    "    patterns = [r\"Review\\s#\\d+\\s-\\s\", r\"Review\\s#\\d+:\\s\", r\"Review\\s#\\d+,\\s\", r\":\\s\\d+\", r\",\\s\\(done\\sblind\\)$\", r\"\\-\\s\\d+%$\"]\n",
    "    \n",
    "    # Loop through patterns and remove matching parts\n",
    "    for pattern in patterns:\n",
    "        title = re.sub(pattern, \"\", title)\n",
    "    \n",
    "    return title.strip()  # Remove leading and trailing spaces\n",
    "\n",
    "# Apply the function to the \"title\" column\n",
    "df[\"Title\"] = df[\"Title\"].apply(clean_title)\n",
    "\n",
    "# Lowercase column names\n",
    "df.columns = map(str.lower, df.columns)\n",
    "\n",
    "# Save the modified DataFrame to a new CSV file\n",
    "df.to_csv(\"modified_dataset.csv\", index=False)\n",
    "\n",
    "print(\"Modification complete. Saved as modified_dataset.csv\")\n"
   ]
  },
  {
   "cell_type": "markdown",
   "id": "2d6fd875-3cde-447d-a11e-5d5b643afe10",
   "metadata": {
    "tags": []
   },
   "source": [
    "### Removing Delimiters"
   ]
  },
  {
   "cell_type": "markdown",
   "id": "072934be-5c5f-4fdf-b27e-1ddc4ccf1312",
   "metadata": {
    "tags": []
   },
   "source": [
    "## <a id=\"Modelling\">  Modelling"
   ]
  },
  {
   "cell_type": "code",
   "execution_count": null,
   "id": "5da7fd7f-aaa0-4d3d-b440-7fa9c35331bc",
   "metadata": {},
   "outputs": [],
   "source": []
  }
 ],
 "metadata": {
  "kernelspec": {
   "display_name": "Python 3 (ipykernel)",
   "language": "python",
   "name": "python3"
  },
  "language_info": {
   "codemirror_mode": {
    "name": "ipython",
    "version": 3
   },
   "file_extension": ".py",
   "mimetype": "text/x-python",
   "name": "python",
   "nbconvert_exporter": "python",
   "pygments_lexer": "ipython3",
   "version": "3.11.5"
  },
  "toc-autonumbering": false,
  "toc-showcode": false,
  "toc-showmarkdowntxt": true
 },
 "nbformat": 4,
 "nbformat_minor": 5
}
