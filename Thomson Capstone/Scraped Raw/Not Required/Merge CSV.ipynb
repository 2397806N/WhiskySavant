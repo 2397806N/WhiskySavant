{
 "cells": [
  {
   "cell_type": "code",
   "execution_count": 1,
   "id": "85f0ec15",
   "metadata": {},
   "outputs": [
    {
     "name": "stderr",
     "output_type": "stream",
     "text": [
      "C:\\Users\\N2397\\AppData\\Roaming\\Python\\Python39\\site-packages\\pandas\\core\\computation\\expressions.py:21: UserWarning: Pandas requires version '2.8.4' or newer of 'numexpr' (version '2.8.1' currently installed).\n",
      "  from pandas.core.computation.check import NUMEXPR_INSTALLED\n",
      "C:\\Users\\N2397\\AppData\\Roaming\\Python\\Python39\\site-packages\\pandas\\core\\arrays\\masked.py:60: UserWarning: Pandas requires version '1.3.6' or newer of 'bottleneck' (version '1.3.4' currently installed).\n",
      "  from pandas.core import (\n"
     ]
    },
    {
     "name": "stdout",
     "output_type": "stream",
     "text": [
      "Merged data successfully!\n"
     ]
    }
   ],
   "source": [
    "import pandas as pd\n",
    "\n",
    "# Define a list to store DataFrames\n",
    "dataframes = []\n",
    "\n",
    "# Loop through the file paths for your CSV files (replace with your actual paths)\n",
    "file_paths = [\n",
    "    r\"C:\\Users\\N2397\\OneDrive - Nanyang Technological University\\General Assembly\\Thomson Capstone\\Scraped Raw\\adunitbx_whisky_posts.csv\",\n",
    "    r\"C:\\Users\\N2397\\OneDrive - Nanyang Technological University\\General Assembly\\Thomson Capstone\\Scraped Raw\\Coirebreacan_whisky_posts.csv\",\n",
    "    # Add paths for the remaining 3 CSV files here\n",
    "    r\"C:\\Users\\N2397\\OneDrive - Nanyang Technological University\\General Assembly\\Thomson Capstone\\Scraped Raw\\buckydean_scotch_posts.csv\",\n",
    "    r\"C:\\Users\\N2397\\OneDrive - Nanyang Technological University\\General Assembly\\Thomson Capstone\\Scraped Raw\\deppsdoeswhisky_whiskey_posts.csv\",\n",
    "    r\"C:\\Users\\N2397\\OneDrive - Nanyang Technological University\\General Assembly\\Thomson Capstone\\Scraped Raw\\kaedoge_whisky_posts.csv\"\n",
    "]\n",
    "\n",
    "# Read each CSV file into a DataFrame and append to the list\n",
    "for file_path in file_paths:\n",
    "  dataframes.append(pd.read_csv(file_path))\n",
    "\n",
    "# Combine the DataFrames\n",
    "merged_df = pd.concat(dataframes)\n",
    "\n",
    "# Save the merged DataFrame to a new CSV file (optional)\n",
    "merged_df.to_csv('merged_data1.csv', index=False)\n",
    "\n",
    "print(\"Merged data successfully!\")\n"
   ]
  },
  {
   "cell_type": "code",
   "execution_count": 2,
   "id": "9619e5cc",
   "metadata": {},
   "outputs": [
    {
     "name": "stdout",
     "output_type": "stream",
     "text": [
      "Data cleaning completed!\n"
     ]
    }
   ],
   "source": [
    "def drop_non_review_rows(df, review_term=\"review\"):\n",
    "    \"\"\"Drops rows where no column contains the specified review term (case-insensitive).\n",
    "\n",
    "    Args:\n",
    "        df (pd.DataFrame): The DataFrame to process.\n",
    "        review_term (str, optional): The term to search for (defaults to \"review\").\n",
    "\n",
    "    Returns:\n",
    "        pd.DataFrame: The DataFrame with non-review rows removed.\n",
    "    \"\"\"\n",
    "    def has_review(row):\n",
    "        # Iterate through each value in the row (assuming all string-type)\n",
    "        for value in row.values:\n",
    "            if pd.isna(value):  # Skip missing values\n",
    "                continue\n",
    "            if review_term.lower() in str(value).lower():\n",
    "                return True\n",
    "        return False\n",
    "\n",
    "    return df.loc[df.apply(has_review, axis=1)]\n",
    "\n",
    "\n",
    "def drop_blank_rows(df):\n",
    "    \"\"\"Drops rows containing only empty values (NaN or whitespace).\n",
    "\n",
    "    Args:\n",
    "        df (pd.DataFrame): The DataFrame to process.\n",
    "\n",
    "    Returns:\n",
    "        pd.DataFrame: The DataFrame with blank rows removed.\n",
    "    \"\"\"\n",
    "    return df.dropna(subset=df.columns, how='all')  # Filter all columns\n",
    "\n",
    "\n",
    "# ... (Rest of your code to read CSV files and merge them)\n",
    "\n",
    "# Drop blank rows using the custom function\n",
    "merged_df = drop_blank_rows(merged_df)\n",
    "\n",
    "# Drop non-review rows (assuming text data is mostly strings)\n",
    "merged_df = drop_non_review_rows(merged_df)\n",
    "\n",
    "# Save the cleaned DataFrame to a new CSV file (optional)\n",
    "merged_df.to_csv('cleaned_data.csv', index=False)\n",
    "\n",
    "print(\"Data cleaning completed!\")\n"
   ]
  },
  {
   "cell_type": "code",
   "execution_count": null,
   "id": "62dd4335",
   "metadata": {},
   "outputs": [],
   "source": []
  }
 ],
 "metadata": {
  "kernelspec": {
   "display_name": "Python 3 (ipykernel)",
   "language": "python",
   "name": "python3"
  },
  "language_info": {
   "codemirror_mode": {
    "name": "ipython",
    "version": 3
   },
   "file_extension": ".py",
   "mimetype": "text/x-python",
   "name": "python",
   "nbconvert_exporter": "python",
   "pygments_lexer": "ipython3",
   "version": "3.11.5"
  }
 },
 "nbformat": 4,
 "nbformat_minor": 5
}
