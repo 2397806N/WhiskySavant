{
 "cells": [
  {
   "cell_type": "code",
   "execution_count": 1,
   "id": "441c0dae",
   "metadata": {},
   "outputs": [],
   "source": [
    "import pandas as pd\n",
    "import string"
   ]
  },
  {
   "cell_type": "code",
   "execution_count": 2,
   "id": "401eb76d",
   "metadata": {},
   "outputs": [
    {
     "name": "stdout",
     "output_type": "stream",
     "text": [
      "                                               title  score       id  \\\n",
      "0   The Whisky Club referral code - get a free dram!      2   zd0dae   \n",
      "1                 All rankings by /u/DeppsDoesWhisky      2   owah7l   \n",
      "2                  All reviews by /u/DeppsDoesWhisky      7   owah1r   \n",
      "3  111th whisky review, 1st New Zealand review - ...      8  1b7voqa   \n",
      "4  111th whisky review, 1st New Zealand review - ...     17  1b7vopp   \n",
      "\n",
      "                                                 url       created  \\\n",
      "0  /r/AusWhisky/comments/vh9upu/the_whisky_club_r...  1.670226e+09   \n",
      "1  https://www.reddit.com/r/DeppsDoesWhisky/comme...  1.627893e+09   \n",
      "2  https://www.reddit.com/r/DeppsDoesWhisky/comme...  1.627893e+09   \n",
      "3               https://i.redd.it/qgf6dm6loomc1.jpeg  1.709718e+09   \n",
      "4               https://i.redd.it/aw0dfe9moomc1.jpeg  1.709718e+09   \n",
      "\n",
      "                                                body  \\\n",
      "0                                                NaN   \n",
      "1  **Whiskies by ranking:**\\n\\nFuji 2022 Masterpi...   \n",
      "2  Reviews in chronological order:\\n\\n#1 (Scotlan...   \n",
      "3                                                NaN   \n",
      "4                                                NaN   \n",
      "\n",
      "                                            comments  \n",
      "0                                                 []  \n",
      "1  [{'body': \"I'm also on Instagram [@deppsdoeswh...  \n",
      "2  [{'body': \"Some inevitable questions:\\n\\nWhy h...  \n",
      "3  [{'body': 'Thomson Manuka Smoke \\'Progress Rep...  \n",
      "4  [{'body': 'Thomson Manuka Smoke \\'Progress Rep...  \n"
     ]
    }
   ],
   "source": [
    "df = pd.read_csv('user_posts_with_comments.csv')\n",
    "\n",
    "# Display the first few rows of the DataFrame\n",
    "print(df.head())"
   ]
  },
  {
   "cell_type": "code",
   "execution_count": 3,
   "id": "d3e1f060",
   "metadata": {},
   "outputs": [],
   "source": [
    "# Convert all text columns to lowercase\n",
    "df = df.apply(lambda x: x.astype(str).str.lower())"
   ]
  },
  {
   "cell_type": "code",
   "execution_count": 4,
   "id": "c4cd840c",
   "metadata": {},
   "outputs": [],
   "source": [
    "# Remove punctuations from text columns\n",
    "def remove_punctuation(text):\n",
    "    return text.translate(str.maketrans('', '', string.punctuation))\n",
    "\n",
    "df['title'] = df['title'].apply(remove_punctuation)\n",
    "df['comments'] = df['comments'].apply(remove_punctuation)"
   ]
  },
  {
   "cell_type": "code",
   "execution_count": 5,
   "id": "82987bb3",
   "metadata": {},
   "outputs": [],
   "source": [
    "columns_to_drop = ['url', 'body', 'created']\n",
    "df = df.drop(columns_to_drop, axis=1)"
   ]
  },
  {
   "cell_type": "code",
   "execution_count": 6,
   "id": "06735a0e",
   "metadata": {},
   "outputs": [],
   "source": [
    "df = df.dropna()"
   ]
  },
  {
   "cell_type": "code",
   "execution_count": 7,
   "id": "0fec960f",
   "metadata": {},
   "outputs": [
    {
     "name": "stdout",
     "output_type": "stream",
     "text": [
      "                                               title score       id  \\\n",
      "0     the whisky club referral code  get a free dram     2   zd0dae   \n",
      "1                   all rankings by udeppsdoeswhisky     2   owah7l   \n",
      "2                    all reviews by udeppsdoeswhisky     7   owah1r   \n",
      "3  111th whisky review 1st new zealand review  th...     8  1b7voqa   \n",
      "4  111th whisky review 1st new zealand review  th...    17  1b7vopp   \n",
      "\n",
      "                                            comments  \n",
      "0                                                     \n",
      "1  body im also on instagram deppsdoeswhiskyhttps...  \n",
      "2  body some inevitable questionsnnwhy have you s...  \n",
      "3  body thomson manuka smoke progress reportnnsin...  \n",
      "4  body thomson manuka smoke progress reportnnsin...  \n"
     ]
    }
   ],
   "source": [
    "print(df.head())"
   ]
  },
  {
   "cell_type": "code",
   "execution_count": 8,
   "id": "a0b8463b",
   "metadata": {},
   "outputs": [],
   "source": [
    "df.to_csv('cleaned_user_posts.csv', index=False)"
   ]
  },
  {
   "cell_type": "code",
   "execution_count": null,
   "id": "ecd94ceb",
   "metadata": {},
   "outputs": [],
   "source": []
  }
 ],
 "metadata": {
  "kernelspec": {
   "display_name": "Python 3 (ipykernel)",
   "language": "python",
   "name": "python3"
  },
  "language_info": {
   "codemirror_mode": {
    "name": "ipython",
    "version": 3
   },
   "file_extension": ".py",
   "mimetype": "text/x-python",
   "name": "python",
   "nbconvert_exporter": "python",
   "pygments_lexer": "ipython3",
   "version": "3.9.12"
  }
 },
 "nbformat": 4,
 "nbformat_minor": 5
}
