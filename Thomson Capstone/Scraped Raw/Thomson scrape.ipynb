{
 "cells": [
  {
   "cell_type": "code",
   "execution_count": 1,
   "id": "60b67b72",
   "metadata": {},
   "outputs": [],
   "source": [
    "import praw\n",
    "\n",
    "reddit = praw.Reddit(\n",
    "    client_id=\"zyWV31wzwbRJpdk1CMn7qQ\",\n",
    "    client_secret=\"9ytU5NETlMvpp6KuUmqaScdOe9aEXA\",\n",
    "    user_agent=\"Whisky Capstone by u/2397806N \",\n",
    "    username=\"2397806N\",\n",
    "    password=\"7u8i9o0p\",\n",
    ")\n"
   ]
  },
  {
   "cell_type": "code",
   "execution_count": 2,
   "id": "73041d59",
   "metadata": {
    "scrolled": true
   },
   "outputs": [],
   "source": [
    "import csv\n",
    "\n",
    "def scrape_user_posts_with_comments(username, num_posts):\n",
    "    # An empty list to store posts\n",
    "    posts = []\n",
    "    \n",
    "    # Fetch the redditor object\n",
    "    redditor = reddit.redditor(username)\n",
    "    \n",
    "    # Fetch posts from the user's submissions\n",
    "    for submission in redditor.submissions.new(limit=num_posts):\n",
    "        if submission.is_self:  # Check if it's a self-text post\n",
    "            body = submission.selftext\n",
    "        else:\n",
    "            body = \"\"\n",
    "        \n",
    "        # Fetch comments for the submission\n",
    "        comments = []\n",
    "        submission.comments.replace_more(limit=None)\n",
    "        for comment in submission.comments.list():\n",
    "            comments.append({\n",
    "                'body': comment.body,\n",
    "                'score': comment.score\n",
    "            })\n",
    "        \n",
    "        posts.append({\n",
    "            'title': submission.title,\n",
    "            'score': submission.score,\n",
    "            'id': submission.id,\n",
    "            'url': submission.url,\n",
    "            'created': submission.created_utc,  # Convert to UTC timestamp\n",
    "            'body': body,\n",
    "            'comments': comments\n",
    "        })\n",
    "    \n",
    "    return posts\n",
    "\n",
    "def save_to_csv(posts, filename):\n",
    "    # Define the field names for CSV\n",
    "    fieldnames = ['title', 'score', 'id', 'url', 'created', 'body', 'comments']\n",
    "    \n",
    "    # Write the posts to a CSV file\n",
    "    with open(filename, 'w', newline='', encoding='utf-8') as csvfile:\n",
    "        writer = csv.DictWriter(csvfile, fieldnames=fieldnames)\n",
    "        writer.writeheader()\n",
    "        for post in posts:\n",
    "            writer.writerow(post)\n",
    "\n",
    "# Scrape posts from 'DeppsDoesWhisky' user with comments\n",
    "user_posts_with_comments = scrape_user_posts_with_comments('deppsdoeswhisky', 1000)\n",
    "\n",
    "# Save posts to a CSV file\n",
    "save_to_csv(user_posts_with_comments, 'deppsdoeswhisky_with_comments.csv')\n"
   ]
  },
  {
   "cell_type": "code",
   "execution_count": null,
   "id": "6617b2d1",
   "metadata": {},
   "outputs": [],
   "source": []
  }
 ],
 "metadata": {
  "kernelspec": {
   "display_name": "Python 3 (ipykernel)",
   "language": "python",
   "name": "python3"
  },
  "language_info": {
   "codemirror_mode": {
    "name": "ipython",
    "version": 3
   },
   "file_extension": ".py",
   "mimetype": "text/x-python",
   "name": "python",
   "nbconvert_exporter": "python",
   "pygments_lexer": "ipython3",
   "version": "3.9.12"
  }
 },
 "nbformat": 4,
 "nbformat_minor": 5
}
