{
 "cells": [
  {
   "cell_type": "code",
   "execution_count": 2,
   "id": "e294c761",
   "metadata": {},
   "outputs": [
    {
     "name": "stdout",
     "output_type": "stream",
     "text": [
      "'Quadrant 1' belongs to Quadrant 1\n",
      "No quadrant assigned for 'Speyside and some Highland malts...'\n",
      "No quadrant assigned for 'Some Lowland and triple-distilled malts...'\n",
      "No quadrant assigned for 'Some Island malts like Talisker...'\n"
     ]
    }
   ],
   "source": [
    "def assign_quadrant(description):\n",
    "  \"\"\"\n",
    "  Assigns a quadrant (1 to 4) based on the description of a whisky.\n",
    "\n",
    "  Args:\n",
    "      description (str): The description of the whisky.\n",
    "\n",
    "  Returns:\n",
    "      int: The quadrant (1-4) or None if no match is found.\n",
    "  \"\"\"\n",
    "  rich_keywords = [\"rich\", \"full-bodied\", \"sherry\", \"higher ABV\"]\n",
    "  smoky_keywords = [\"smoky\", \"peaty\", \"phenolic\", \"peated\", \"oily\"]\n",
    "  unsmoked_keywords = [\"unsmoked\", \"sweet\", \"delicate\", \"floral\"]\n",
    "  light_keywords = [\"light\", \"subtle\", \"grassy\", \"citrus\"]\n",
    "\n",
    "  # Check for Rich & Smoky keywords\n",
    "  if any(word in description.lower() for word in rich_keywords) and any(word in description.lower() for word in smoky_keywords):\n",
    "    return 1\n",
    "\n",
    "  # Check for Rich & Unsmoked keywords\n",
    "  if any(word in description.lower() for word in rich_keywords) and any(word in description.lower() for word in unsmoked_keywords):\n",
    "    return 2\n",
    "\n",
    "  # Check for Light & Unsmoked keywords\n",
    "  if any(word in description.lower() for word in light_keywords) and any(word in description.lower() for word in unsmoked_keywords):\n",
    "    return 3\n",
    "\n",
    "  # Check for Light & Smoky keywords\n",
    "  if any(word in description.lower() for word in light_keywords) and any(word in description.lower() for word in smoky_keywords):\n",
    "    return 4\n",
    "\n",
    "  # No matching keywords found\n",
    "  return None\n",
    "\n",
    "# Example usage\n",
    "descriptions = [\n",
    "    \"Quadrant 1: Rich & Smoky...\",\n",
    "    \"Speyside and some Highland malts...\",\n",
    "    \"Some Lowland and triple-distilled malts...\",\n",
    "    \"Some Island malts like Talisker...\"\n",
    "]\n",
    "\n",
    "for description in descriptions:\n",
    "  quadrant = assign_quadrant(description)\n",
    "  if quadrant:\n",
    "    print(f\"'{description.split(':')[0]}' belongs to Quadrant {quadrant}\")\n",
    "  else:\n",
    "    print(f\"No quadrant assigned for '{description.split(':')[0]}'\")\n"
   ]
  },
  {
   "cell_type": "code",
   "execution_count": null,
   "id": "b13ddb04",
   "metadata": {},
   "outputs": [],
   "source": []
  }
 ],
 "metadata": {
  "kernelspec": {
   "display_name": "Python 3 (ipykernel)",
   "language": "python",
   "name": "python3"
  },
  "language_info": {
   "codemirror_mode": {
    "name": "ipython",
    "version": 3
   },
   "file_extension": ".py",
   "mimetype": "text/x-python",
   "name": "python",
   "nbconvert_exporter": "python",
   "pygments_lexer": "ipython3",
   "version": "3.11.5"
  }
 },
 "nbformat": 4,
 "nbformat_minor": 5
}
